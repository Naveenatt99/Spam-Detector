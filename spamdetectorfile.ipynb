{
 "cells": [
  {
   "cell_type": "code",
   "execution_count": 30,
   "id": "56ea7723",
   "metadata": {},
   "outputs": [
    {
     "name": "stderr",
     "output_type": "stream",
     "text": [
      "[nltk_data] Downloading package stopwords to\n",
      "[nltk_data]     C:\\Users\\navee\\AppData\\Roaming\\nltk_data...\n",
      "[nltk_data]   Package stopwords is already up-to-date!\n"
     ]
    }
   ],
   "source": [
    "import pandas as pd\n",
    "import nltk\n",
    "nltk.download('stopwords')\n",
    "from nltk.tokenize import RegexpTokenizer\n",
    "from nltk.corpus import stopwords\n",
    "from nltk.stem.porter import PorterStemmer"
   ]
  },
  {
   "cell_type": "code",
   "execution_count": 31,
   "id": "e3869933",
   "metadata": {},
   "outputs": [
    {
     "data": {
      "text/html": [
       "<div>\n",
       "<style scoped>\n",
       "    .dataframe tbody tr th:only-of-type {\n",
       "        vertical-align: middle;\n",
       "    }\n",
       "\n",
       "    .dataframe tbody tr th {\n",
       "        vertical-align: top;\n",
       "    }\n",
       "\n",
       "    .dataframe thead th {\n",
       "        text-align: right;\n",
       "    }\n",
       "</style>\n",
       "<table border=\"1\" class=\"dataframe\">\n",
       "  <thead>\n",
       "    <tr style=\"text-align: right;\">\n",
       "      <th></th>\n",
       "      <th>sms</th>\n",
       "      <th>category</th>\n",
       "    </tr>\n",
       "  </thead>\n",
       "  <tbody>\n",
       "    <tr>\n",
       "      <th>0</th>\n",
       "      <td>o see if you'd decided to do anything tomo. No...</td>\n",
       "      <td>ham</td>\n",
       "    </tr>\n",
       "    <tr>\n",
       "      <th>1</th>\n",
       "      <td>Pls go ahead with watts. I just wanted to be s...</td>\n",
       "      <td>ham</td>\n",
       "    </tr>\n",
       "    <tr>\n",
       "      <th>2</th>\n",
       "      <td>Did I forget to tell you ? I want you , I need...</td>\n",
       "      <td>ham</td>\n",
       "    </tr>\n",
       "    <tr>\n",
       "      <th>3</th>\n",
       "      <td>07732584351 - Rodger Burns - MSG = We tried to...</td>\n",
       "      <td>spam</td>\n",
       "    </tr>\n",
       "    <tr>\n",
       "      <th>4</th>\n",
       "      <td>WHO ARE YOU SEEING?</td>\n",
       "      <td>ham</td>\n",
       "    </tr>\n",
       "  </tbody>\n",
       "</table>\n",
       "</div>"
      ],
      "text/plain": [
       "                                                 sms category\n",
       "0  o see if you'd decided to do anything tomo. No...      ham\n",
       "1  Pls go ahead with watts. I just wanted to be s...      ham\n",
       "2  Did I forget to tell you ? I want you , I need...      ham\n",
       "3  07732584351 - Rodger Burns - MSG = We tried to...     spam\n",
       "4                                WHO ARE YOU SEEING?      ham"
      ]
     },
     "execution_count": 31,
     "metadata": {},
     "output_type": "execute_result"
    }
   ],
   "source": [
    "df_train = pd.read_csv('spam_train.csv', encoding='ISO-8859-1')\n",
    "df_train.head (5)"
   ]
  },
  {
   "cell_type": "code",
   "execution_count": 32,
   "id": "5767dade",
   "metadata": {},
   "outputs": [
    {
     "data": {
      "text/html": [
       "<div>\n",
       "<style scoped>\n",
       "    .dataframe tbody tr th:only-of-type {\n",
       "        vertical-align: middle;\n",
       "    }\n",
       "\n",
       "    .dataframe tbody tr th {\n",
       "        vertical-align: top;\n",
       "    }\n",
       "\n",
       "    .dataframe thead th {\n",
       "        text-align: right;\n",
       "    }\n",
       "</style>\n",
       "<table border=\"1\" class=\"dataframe\">\n",
       "  <thead>\n",
       "    <tr style=\"text-align: right;\">\n",
       "      <th></th>\n",
       "      <th>sms</th>\n",
       "      <th>category</th>\n",
       "    </tr>\n",
       "  </thead>\n",
       "  <tbody>\n",
       "    <tr>\n",
       "      <th>0</th>\n",
       "      <td>No no. I will check all rooms befor activities</td>\n",
       "      <td>ham</td>\n",
       "    </tr>\n",
       "    <tr>\n",
       "      <th>1</th>\n",
       "      <td>My fri ah... Okie lor,goin 4 my drivin den go ...</td>\n",
       "      <td>ham</td>\n",
       "    </tr>\n",
       "    <tr>\n",
       "      <th>2</th>\n",
       "      <td>Gokila is talking with you aha:)</td>\n",
       "      <td>ham</td>\n",
       "    </tr>\n",
       "    <tr>\n",
       "      <th>3</th>\n",
       "      <td>Hi Shanil,Rakhesh here.thanks,i have exchanged...</td>\n",
       "      <td>ham</td>\n",
       "    </tr>\n",
       "    <tr>\n",
       "      <th>4</th>\n",
       "      <td>K.k.this month kotees birthday know?</td>\n",
       "      <td>ham</td>\n",
       "    </tr>\n",
       "  </tbody>\n",
       "</table>\n",
       "</div>"
      ],
      "text/plain": [
       "                                                 sms category\n",
       "0     No no. I will check all rooms befor activities      ham\n",
       "1  My fri ah... Okie lor,goin 4 my drivin den go ...      ham\n",
       "2                   Gokila is talking with you aha:)      ham\n",
       "3  Hi Shanil,Rakhesh here.thanks,i have exchanged...      ham\n",
       "4               K.k.this month kotees birthday know?      ham"
      ]
     },
     "execution_count": 32,
     "metadata": {},
     "output_type": "execute_result"
    }
   ],
   "source": [
    "df_test = pd.read_csv('spam_test.csv', encoding='ISO-8859-1')\n",
    "df_test.head (5)"
   ]
  },
  {
   "cell_type": "code",
   "execution_count": 33,
   "id": "815f8314",
   "metadata": {},
   "outputs": [],
   "source": [
    "tokenizer=RegexpTokenizer('r\\w+')\n",
    "stopwords_english=set(stopwords.words('english'))\n",
    "\n",
    "#Tokenizing & stemming & removing stop words\n",
    "def cleanSms(sms):\n",
    " sms=sms.replace(\"<br /><br />\",\" \")\n",
    " sms=sms.lower()\n",
    " sms_tokens=tokenizer.tokenize(sms)\n",
    " sms_tokens_without_stopwords=[token for token in sms_tokens if token not in stopwords_english]\n",
    " stemmed_sms_tokens_without_stopwords=[PorterStemmer().stem(token) for token in sms_tokens_without_stopwords]\n",
    " cleaned_sms=' '.join(stemmed_sms_tokens_without_stopwords)\n",
    " return cleaned_sms"
   ]
  },
  {
   "cell_type": "code",
   "execution_count": 34,
   "id": "75fbdef7",
   "metadata": {},
   "outputs": [],
   "source": [
    "#Clean the data & plot it on X & Y\n",
    "df_train['sms'].apply(cleanSms)\n",
    "x_train = df_train['sms'].values\n",
    "y_train = df_train['category'].values\n",
    "\n",
    "df_test['sms'].apply(cleanSms)\n",
    "x_test = df_test['sms'].values\n",
    "y_test = df_test['category'].values"
   ]
  },
  {
   "cell_type": "code",
   "execution_count": 35,
   "id": "43a48b09",
   "metadata": {},
   "outputs": [],
   "source": [
    "#Vectorze the data\n",
    "from sklearn.feature_extraction.text import TfidfVectorizer\n",
    "vectorizer = TfidfVectorizer(sublinear_tf=True, encoding='ISO-8859-1')\n",
    "vectorizer.fit(x_train)\n",
    "x_train=vectorizer.transform(x_train)\n",
    "x_test=vectorizer.transform(x_test)"
   ]
  },
  {
   "cell_type": "code",
   "execution_count": 36,
   "id": "37987947",
   "metadata": {},
   "outputs": [
    {
     "data": {
      "text/plain": [
       "LogisticRegression()"
      ]
     },
     "execution_count": 36,
     "metadata": {},
     "output_type": "execute_result"
    }
   ],
   "source": [
    "#Create model\n",
    "from sklearn.linear_model import LogisticRegression\n",
    "model=LogisticRegression(solver='lbfgs')\n",
    "model.fit(x_train,y_train)"
   ]
  },
  {
   "cell_type": "code",
   "execution_count": 37,
   "id": "2cedda96",
   "metadata": {},
   "outputs": [
    {
     "data": {
      "text/plain": [
       "array(['spam'], dtype=object)"
      ]
     },
     "execution_count": 37,
     "metadata": {},
     "output_type": "execute_result"
    }
   ],
   "source": [
    "#Predict Spam\n",
    "model.predict(vectorizer.transform([\"you won $900 in the new lottery draw. Call +123456789.\"]))"
   ]
  },
  {
   "cell_type": "code",
   "execution_count": 38,
   "id": "dab52fd5",
   "metadata": {},
   "outputs": [
    {
     "data": {
      "text/plain": [
       "array(['ham'], dtype=object)"
      ]
     },
     "execution_count": 38,
     "metadata": {},
     "output_type": "execute_result"
    }
   ],
   "source": [
    "#Predict Ham\n",
    "model.predict(vectorizer.transform([\"Hello there. How are you doing?\"]))"
   ]
  },
  {
   "cell_type": "code",
   "execution_count": 39,
   "id": "d813bf92",
   "metadata": {},
   "outputs": [
    {
     "data": {
      "text/plain": [
       "['vectorizer.pkl']"
      ]
     },
     "execution_count": 39,
     "metadata": {},
     "output_type": "execute_result"
    }
   ],
   "source": [
    "import joblib\n",
    "joblib.dump(model,'spam_ham_model.pkl')\n",
    "joblib.dump(vectorizer,'vectorizer.pkl')"
   ]
  },
  {
   "cell_type": "code",
   "execution_count": null,
   "id": "b3b33b4d",
   "metadata": {},
   "outputs": [],
   "source": []
  }
 ],
 "metadata": {
  "kernelspec": {
   "display_name": "Python 3 (ipykernel)",
   "language": "python",
   "name": "python3"
  },
  "language_info": {
   "codemirror_mode": {
    "name": "ipython",
    "version": 3
   },
   "file_extension": ".py",
   "mimetype": "text/x-python",
   "name": "python",
   "nbconvert_exporter": "python",
   "pygments_lexer": "ipython3",
   "version": "3.9.7"
  }
 },
 "nbformat": 4,
 "nbformat_minor": 5
}
